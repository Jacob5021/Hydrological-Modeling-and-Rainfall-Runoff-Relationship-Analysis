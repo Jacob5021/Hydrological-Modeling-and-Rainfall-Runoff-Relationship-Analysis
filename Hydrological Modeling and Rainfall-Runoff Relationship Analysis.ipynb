{
  "nbformat": 4,
  "nbformat_minor": 0,
  "metadata": {
    "colab": {
      "provenance": []
    },
    "kernelspec": {
      "name": "python3",
      "display_name": "Python 3"
    },
    "language_info": {
      "name": "python"
    }
  },
  "cells": [
    {
      "cell_type": "markdown",
      "source": [
        "Uploaded the zip file of the Dataset. Extracting the same."
      ],
      "metadata": {
        "id": "uqLa6K8yUCTg"
      }
    },
    {
      "cell_type": "code",
      "execution_count": 23,
      "metadata": {
        "id": "fEcUgU4RO2Fc"
      },
      "outputs": [],
      "source": [
        "import os\n",
        "import zipfile\n",
        "import pandas as pd\n",
        "import numpy as np\n",
        "import matplotlib.pyplot as plt\n",
        "import geopandas as gpd\n",
        "from sklearn.metrics import mean_squared_error, mean_absolute_error, r2_score\n",
        "from scipy.stats import expon\n",
        "\n",
        "\n",
        "# Extract the uploaded zip file\n",
        "zip_file_path = \"/Datasets.zip\"\n",
        "with zipfile.ZipFile(zip_file_path, 'r') as zip_ref:\n",
        "    zip_ref.extractall()  # Extracts to a \"Datasets\" folder\n",
        "\n",
        "# Set the base path to the extracted folder\n",
        "base_path = \"/content\"\n"
      ]
    },
    {
      "cell_type": "markdown",
      "source": [
        "Task 1: Compute the Missing rainfall data for all the 4 Rain gauge locations. The output file named Filled_Rainfall_Data.xlsx is generated with the results."
      ],
      "metadata": {
        "id": "ACwXFG9PUQOJ"
      }
    },
    {
      "cell_type": "code",
      "source": [
        "import pandas as pd\n",
        "\n",
        "# Define the path to the rainfall file\n",
        "rainfall_file = \"/content/Datasets/Rainfall and Runoff Dataset.xlsx\"\n",
        "\n",
        "try:\n",
        "    # Load the dataset with multi-level headers\n",
        "    df = pd.read_excel(rainfall_file, sheet_name=\"Rainfall_flow_level\", header=[0, 1])\n",
        "\n",
        "    # Display the dataset's columns for debugging\n",
        "    print(\"Available columns in the dataset before cleaning:\", df.columns.tolist())\n",
        "\n",
        "    # Clean column names: Use only the first level if the second level is \"Unnamed\"\n",
        "    df.columns = [\n",
        "        col[0] if \"Unnamed\" in col[1] else f\"{col[0]} {col[1]}\".strip()\n",
        "        for col in df.columns\n",
        "    ]\n",
        "\n",
        "    # Display the cleaned dataset's columns\n",
        "    print(\"Available columns in the dataset after cleaning:\", df.columns.tolist())\n",
        "\n",
        "    # Drop the columns from the DataFrame\n",
        "    # Remove the specified columns\n",
        "    columns_to_remove = [\n",
        "        'Water level (m) Station',\n",
        "        'Water level (m) Latitude',\n",
        "        'Water level (m) Longitude'\n",
        "    ]\n",
        "    df_final = df.drop(columns=columns_to_remove, errors='ignore')\n",
        "    print(\"Columns after dropping specified columns:\", df_final.columns.tolist())\n",
        "\n",
        "    # Check for missing values in the rain gauge columns\n",
        "    rain_gauge_columns = [\"Rainfall in mm Station 1\", \"Rainfall in mm Station 2\", \"Rainfall in mm Station 3\", \"Rainfall in mm Station4\"]\n",
        "    print(\"Missing values in the rain gauge columns before filling:\")\n",
        "    print(df[rain_gauge_columns].isnull().sum())\n",
        "\n",
        "    # Fill missing rainfall data in rain gauge columns using interpolation (or any method of your choice)\n",
        "    for station in rain_gauge_columns:\n",
        "        if station in df.columns:\n",
        "            df[station] = df[station].interpolate(method=\"linear\").bfill().ffill()\n",
        "\n",
        "    # Check for missing values after filling\n",
        "    print(\"Missing values in the rain gauge columns after filling:\")\n",
        "    print(df[rain_gauge_columns].isnull().sum())\n",
        "\n",
        "    # Save the cleaned and updated DataFrame to a new Excel file\n",
        "    output_file = \"/content/Filled_Rainfall_Data.xlsx\"\n",
        "    df_final.to_excel(output_file, index=False)\n",
        "    print(f\"Task 1: Missing rainfall data filled and cleaned data saved to '{output_file}'.\")\n",
        "\n",
        "except Exception as e:\n",
        "    print(f\"An error occurred: {e}\")\n"
      ],
      "metadata": {
        "colab": {
          "base_uri": "https://localhost:8080/",
          "height": 0
        },
        "id": "BgVsAKhcRllC",
        "outputId": "30defa2d-4dc7-48fe-e5ac-0e4865df830c"
      },
      "execution_count": 24,
      "outputs": [
        {
          "output_type": "stream",
          "name": "stdout",
          "text": [
            "Available columns in the dataset before cleaning: [('Date ', 'Unnamed: 0_level_1'), ('Rainfall in mm', 'Station 1'), ('Rainfall in mm', 'Station 2'), ('Rainfall in mm', 'Station 3'), ('Rainfall in mm', 'Station4'), ('Discharge (cumecs)', 'Unnamed: 5_level_1'), ('Water level (m)', 'Unnamed: 6_level_1'), ('Water level (m)', 'Unnamed: 7_level_1'), ('Water level (m)', 'Station'), ('Water level (m)', 'Latitude'), ('Water level (m)', 'Longitude')]\n",
            "Available columns in the dataset after cleaning: ['Date ', 'Rainfall in mm Station 1', 'Rainfall in mm Station 2', 'Rainfall in mm Station 3', 'Rainfall in mm Station4', 'Discharge (cumecs)', 'Water level (m)', 'Water level (m)', 'Water level (m) Station', 'Water level (m) Latitude', 'Water level (m) Longitude']\n",
            "Columns after dropping specified columns: ['Date ', 'Rainfall in mm Station 1', 'Rainfall in mm Station 2', 'Rainfall in mm Station 3', 'Rainfall in mm Station4', 'Discharge (cumecs)', 'Water level (m)', 'Water level (m)']\n",
            "Missing values in the rain gauge columns before filling:\n",
            "Rainfall in mm Station 1    61\n",
            "Rainfall in mm Station 2     3\n",
            "Rainfall in mm Station 3     1\n",
            "Rainfall in mm Station4      1\n",
            "dtype: int64\n",
            "Missing values in the rain gauge columns after filling:\n",
            "Rainfall in mm Station 1    0\n",
            "Rainfall in mm Station 2    0\n",
            "Rainfall in mm Station 3    0\n",
            "Rainfall in mm Station4     0\n",
            "dtype: int64\n",
            "Task 1: Missing rainfall data filled and cleaned data saved to '/content/Filled_Rainfall_Data.xlsx'.\n"
          ]
        }
      ]
    },
    {
      "cell_type": "markdown",
      "source": [
        "Task 2: Calculate basin rainfall from the historical rainfall data of 4 gauges with the basin shapefile provided. The output file named Basin_Rainfall.xlsx and Spatially_Integrated_Basin_Rainfall.xlsx is generated with the results."
      ],
      "metadata": {
        "id": "mcEfta-TUld0"
      }
    },
    {
      "cell_type": "code",
      "source": [
        "import geopandas as gpd\n",
        "import pandas as pd\n",
        "\n",
        "# Define file paths\n",
        "shapefile_path = \"/content/Datasets/Basin_Case Study\"\n",
        "shapefile = \"/content/Datasets/Basin_Case Study/Basin_Case_Study.shp\"\n",
        "rainfall_file = \"/content/Filled_Rainfall_Data.xlsx\"\n",
        "\n",
        "try:\n",
        "    # Load shapefile\n",
        "    gdf = gpd.read_file(shapefile)\n",
        "    print(\"Shapefile loaded successfully.\")\n",
        "\n",
        "    # Load rainfall dataset\n",
        "    df = pd.read_excel(rainfall_file)\n",
        "\n",
        "    # Display dataset columns for debugging\n",
        "    print(\"Columns in the dataset:\", df.columns.tolist())\n",
        "\n",
        "    # Match station columns by name\n",
        "    rain_gauge_columns = [\"Rainfall in mm Station 1\", \"Rainfall in mm Station 2\", \"Rainfall in mm Station 3\", \"Rainfall in mm Station4\"]\n",
        "\n",
        "    # Ensure columns exist in the DataFrame\n",
        "    for col in rain_gauge_columns:\n",
        "        if col not in df.columns:\n",
        "            raise KeyError(f\"Column '{col}' not found in the dataset.\")\n",
        "\n",
        "    # Calculate basin rainfall (e.g., simple average)\n",
        "    df[\"Basin Rainfall\"] = df[rain_gauge_columns].mean(axis=1)\n",
        "\n",
        "    # Drop unwanted column (assuming it's column H)\n",
        "    # If column H is unnamed, you can drop it by index. Column H corresponds to index 7 (0-based indexing)\n",
        "    df = df.drop(df.columns[7], axis=1)  # Drop column at index 7 (H)\n",
        "\n",
        "    # Save the result\n",
        "    output_file = \"/content/Basin_Rainfall.xlsx\"\n",
        "    df.to_excel(output_file, index=False)\n",
        "    print(f\"Task 2: Basin rainfall calculated and saved to '{output_file}'.\")\n",
        "\n",
        "except Exception as e:\n",
        "    print(f\"An error occurred: {e}\")\n"
      ],
      "metadata": {
        "colab": {
          "base_uri": "https://localhost:8080/",
          "height": 0
        },
        "id": "pSgxmeHVwS-1",
        "outputId": "f40b0dbe-fa7b-475f-d117-cda447da681c"
      },
      "execution_count": 25,
      "outputs": [
        {
          "output_type": "stream",
          "name": "stdout",
          "text": [
            "Shapefile loaded successfully.\n",
            "Columns in the dataset: ['Date ', 'Rainfall in mm Station 1', 'Rainfall in mm Station 2', 'Rainfall in mm Station 3', 'Rainfall in mm Station4', 'Discharge (cumecs)', 'Water level (m)', 'Water level (m).1']\n",
            "Task 2: Basin rainfall calculated and saved to '/content/Basin_Rainfall.xlsx'.\n"
          ]
        }
      ]
    },
    {
      "cell_type": "code",
      "source": [
        "import geopandas as gpd\n",
        "import pandas as pd\n",
        "from shapely.geometry import Point\n",
        "\n",
        "# Define file paths\n",
        "shapefile_path = \"/content/Datasets/Basin_Case Study/Basin_Case_Study.shp\"\n",
        "rainfall_file = \"/content/Filled_Rainfall_Data.xlsx\"\n",
        "\n",
        "# Define rain gauge locations\n",
        "rain_gauge_locations = {\n",
        "    \"Station 1\": {\"latitude\": 10.15, \"longitude\": 76.75},\n",
        "    \"Station 2\": {\"latitude\": 10.09139, \"longitude\": 76.68833},\n",
        "    \"Station 3\": {\"latitude\": 9.722167, \"longitude\": 77.15222},\n",
        "    \"Station 4\": {\"latitude\": 10.15917, \"longitude\": 76.61639},\n",
        "}\n",
        "\n",
        "# Load the shapefile\n",
        "basin_gdf = gpd.read_file(shapefile_path)\n",
        "print(\"Basin shapefile loaded successfully.\")\n",
        "\n",
        "# Convert rain gauge data to a GeoDataFrame\n",
        "gauge_df = pd.DataFrame(rain_gauge_locations).T.reset_index()\n",
        "gauge_df.columns = [\"Station\", \"latitude\", \"longitude\"]\n",
        "gauge_gdf = gpd.GeoDataFrame(\n",
        "    gauge_df,\n",
        "    geometry=gpd.points_from_xy(gauge_df.longitude, gauge_df.latitude),\n",
        "    crs=\"EPSG:4326\",  # Use WGS84 (latitude/longitude)\n",
        ")\n",
        "print(\"Rain gauge GeoDataFrame created.\")\n",
        "\n",
        "# Ensure shapefile and rain gauges are in the same CRS\n",
        "basin_gdf = basin_gdf.to_crs(gauge_gdf.crs)\n",
        "\n",
        "# Spatial join to assign gauges to the basin\n",
        "gauge_within_basin = gpd.sjoin(gauge_gdf, basin_gdf, how=\"inner\", predicate=\"intersects\")\n",
        "print(f\"Stations within the basin: {gauge_within_basin['Station'].tolist()}\")\n",
        "\n",
        "\n",
        "# Load rainfall dataset\n",
        "rainfall_df = pd.read_excel(rainfall_file)\n",
        "\n",
        "# Match station columns by name (ensure names align with rainfall dataset)\n",
        "rain_gauge_columns = [\n",
        "    \"Rainfall in mm Station 1\",\n",
        "    \"Rainfall in mm Station 2\",\n",
        "    \"Rainfall in mm Station 3\",\n",
        "    \"Rainfall in mm Station4\",\n",
        "]\n",
        "\n",
        "# Calculate basin rainfall (spatially weighted average)\n",
        "# Assign equal weights as a placeholder. Replace with actual weights if available.\n",
        "gauge_within_basin[\"weight\"] = 1 / len(gauge_within_basin)\n",
        "\n",
        "# Normalize weights to sum to 1\n",
        "gauge_within_basin[\"weight\"] /= gauge_within_basin[\"weight\"].sum()\n",
        "\n",
        "# Mapping from rain gauge columns to Station names\n",
        "station_mapping = {\n",
        "    \"Rainfall in mm Station 1\": \"Station 1\",\n",
        "    \"Rainfall in mm Station 2\": \"Station 2\",\n",
        "    \"Rainfall in mm Station 3\": \"Station 3\",\n",
        "    \"Rainfall in mm Station4\": \"Station 4\",\n",
        "}\n",
        "\n",
        "# Compute weighted rainfall for each time step\n",
        "rainfall_df[\"Basin Rainfall\"] = 0  # Initialize the column\n",
        "\n",
        "for col in rain_gauge_columns:\n",
        "    station_name = station_mapping[col]  # Map to corresponding Station name\n",
        "    weight = gauge_within_basin.loc[\n",
        "        gauge_within_basin[\"Station\"] == station_name, \"weight\"\n",
        "    ].values[0]\n",
        "\n",
        "    # Add the weighted contribution to the Basin Rainfall column\n",
        "    rainfall_df[\"Basin Rainfall\"] += rainfall_df[col] * weight\n",
        "\n",
        "\n",
        "# Save the result to a new Excel file\n",
        "output_file = \"/content/Spatially_Integrated_Basin_Rainfall.xlsx\"\n",
        "rainfall_df.to_excel(output_file, index=False)\n",
        "print(f\"Spatially integrated basin rainfall saved to '{output_file}'.\")\n"
      ],
      "metadata": {
        "colab": {
          "base_uri": "https://localhost:8080/",
          "height": 0
        },
        "id": "VBnyiR2wSnC4",
        "outputId": "a5322196-ae09-43d6-9e83-a32e5c7761c7"
      },
      "execution_count": 26,
      "outputs": [
        {
          "output_type": "stream",
          "name": "stdout",
          "text": [
            "Basin shapefile loaded successfully.\n",
            "Rain gauge GeoDataFrame created.\n",
            "Stations within the basin: ['Station 1', 'Station 2', 'Station 3', 'Station 4']\n",
            "Spatially integrated basin rainfall saved to '/content/Spatially_Integrated_Basin_Rainfall.xlsx'.\n"
          ]
        }
      ]
    },
    {
      "cell_type": "markdown",
      "source": [
        "Task 3: Create a rating curve for the discharge and water level data provided. A Rating_Curve.png is generated."
      ],
      "metadata": {
        "id": "Jpo8tEduVeiv"
      }
    },
    {
      "cell_type": "code",
      "source": [
        "import pandas as pd\n",
        "import matplotlib.pyplot as plt\n",
        "import numpy as np\n",
        "from numpy.polynomial.polynomial import Polynomial\n",
        "\n",
        "# Load the dataset\n",
        "file_path = \"/content/Basin_Rainfall.xlsx\"\n",
        "df = pd.read_excel(file_path)\n",
        "\n",
        "# Extract relevant columns\n",
        "water_level = df['Water level (m)']\n",
        "discharge = df['Discharge (cumecs)']\n",
        "\n",
        "# Plot the scatter plot\n",
        "plt.figure(figsize=(10, 6))\n",
        "plt.scatter(water_level, discharge, color='blue', label='Data Points')\n",
        "\n",
        "# Fit a regression line (e.g., a polynomial of degree 2)\n",
        "degree = 2  # Adjust the degree as needed\n",
        "poly = Polynomial.fit(water_level, discharge, deg=degree)\n",
        "x_line = np.linspace(water_level.min(), water_level.max(), 100)\n",
        "y_line = poly(x_line)\n",
        "\n",
        "# Plot the fitted curve\n",
        "plt.plot(x_line, y_line, color='red', label=f'Fitted Curve (Degree {degree})')\n",
        "\n",
        "# Enhance plot aesthetics\n",
        "plt.xlabel(\"Water Level (m)\", fontsize=12)\n",
        "plt.ylabel(\"Discharge (cumecs)\", fontsize=12)\n",
        "plt.title(\"Rating Curve\", fontsize=14)\n",
        "plt.legend(fontsize=10)\n",
        "plt.grid(True)\n",
        "\n",
        "# Save the plot as an image\n",
        "output_file = \"Rating_Curve.png\"\n",
        "plt.savefig(output_file, dpi=300)\n",
        "plt.show()\n",
        "\n",
        "# Confirmation message\n",
        "print(f\"Task 3: Rating curve plotted and saved as '{output_file}'.\")\n"
      ],
      "metadata": {
        "colab": {
          "base_uri": "https://localhost:8080/",
          "height": 460
        },
        "id": "Ln_EfG-pw_Uc",
        "outputId": "21e757c8-2044-4520-c9f8-e8599b325a97"
      },
      "execution_count": 27,
      "outputs": [
        {
          "output_type": "display_data",
          "data": {
            "text/plain": [
              "<Figure size 1000x600 with 1 Axes>"
            ],
            "image/png": "[encoded data removed]"
          },
          "metadata": {}
        },
        {
          "output_type": "stream",
          "name": "stdout",
          "text": [
            "Task 3: Rating curve plotted and saved as 'Rating_Curve.png'.\n"
          ]
        }
      ]
    },
    {
      "cell_type": "markdown",
      "source": [
        "Task 4: Used interpolation to estimate the missing discharges."
      ],
      "metadata": {
        "id": "MU2IuQ-0WzIo"
      }
    },
    {
      "cell_type": "code",
      "source": [
        "# Load the dataset\n",
        "file_path = \"/content/Spatially_Integrated_Basin_Rainfall.xlsx\"\n",
        "df = pd.read_excel(file_path)\n",
        "\n",
        "# Simple estimation using interpolation\n",
        "df['Discharge (cumecs)'] = df['Discharge (cumecs)'].interpolate().bfill().ffill()\n",
        "df.to_excel(\"Estimated_Discharge.xlsx\", index=False)\n",
        "print(\"Task 4: Missing discharges estimated and saved to 'Estimated_Discharge.xlsx'.\")\n"
      ],
      "metadata": {
        "colab": {
          "base_uri": "https://localhost:8080/",
          "height": 0
        },
        "id": "md3IPwgOxDlt",
        "outputId": "e7d072fb-9934-492c-9305-f8c746fef109"
      },
      "execution_count": 28,
      "outputs": [
        {
          "output_type": "stream",
          "name": "stdout",
          "text": [
            "Task 4: Missing discharges estimated and saved to 'Estimated_Discharge.xlsx'.\n"
          ]
        }
      ]
    },
    {
      "cell_type": "markdown",
      "source": [
        "Task 5: For the given time series discharge data, calculate the probability of exceedance of flows over 1 TMC, 2 TMC, 5 TMC, 10 TMC every day."
      ],
      "metadata": {
        "id": "uqsL42bSXbpL"
      }
    },
    {
      "cell_type": "code",
      "source": [
        "import pandas as pd\n",
        "\n",
        "# Load the dataset\n",
        "file_path = \"/content/Estimated_Discharge.xlsx\"\n",
        "df = pd.read_excel(file_path)\n",
        "\n",
        "# Given flow thresholds for 1 TMC, 2 TMC, 5 TMC, 10 TMC over a 24-hour period\n",
        "flow_thresholds = [327.56, 655.12, 1637.8, 3275.6]\n",
        "total_flows = len(df['Discharge (cumecs)'])  # Total number of discharge data points\n",
        "\n",
        "# Dictionary to store exceedance probabilities for each threshold\n",
        "exceedance = {}\n",
        "\n",
        "# Loop through the thresholds and calculate the probability of exceedance\n",
        "for threshold in flow_thresholds:\n",
        "    # Count how many values exceed the threshold\n",
        "    exceedance[threshold] = (df['Discharge (cumecs)'] > threshold).sum() / total_flows * 100\n",
        "\n",
        "# Output the calculated probabilities of exceedance\n",
        "print(\"Task 5: Probability of exceedance:\", exceedance)\n",
        "\n",
        "# Convert the exceedance dictionary to a DataFrame for export\n",
        "exceedance_df = pd.DataFrame(list(exceedance.items()), columns=[\"Flow Threshold (cumecs)\", \"Exceedance Probability (%)\"])\n",
        "\n",
        "# Define the output file path\n",
        "output_file = \"/content/Exceedance_Probabilities.xlsx\"\n",
        "\n",
        "# Save the results to an Excel file\n",
        "exceedance_df.to_excel(output_file, index=False)\n",
        "print(f\"Exceedance probabilities saved to '{output_file}'.\")\n"
      ],
      "metadata": {
        "colab": {
          "base_uri": "https://localhost:8080/",
          "height": 0
        },
        "id": "zmQNGxTVxHml",
        "outputId": "2ee7a348-7e5d-468a-c2c5-871650be2d29"
      },
      "execution_count": 29,
      "outputs": [
        {
          "output_type": "stream",
          "name": "stdout",
          "text": [
            "Task 5: Probability of exceedance: {327.56: 20.82982308340354, 655.12: 5.560235888795282, 1637.8: 0.4633529907329402, 3275.6: 0.02106149957877001}\n",
            "Exceedance probabilities saved to '/content/Exceedance_Probabilities.xlsx'.\n"
          ]
        }
      ]
    },
    {
      "cell_type": "markdown",
      "source": [
        "Task 6: Developed a rainfall-runoff relationship using Polynomial Regression and indicated what percent of variation in runoff is accounted by the proposed equation.\n"
      ],
      "metadata": {
        "id": "b-KUdg_qZVKg"
      }
    },
    {
      "cell_type": "code",
      "source": [
        "import pandas as pd\n",
        "from sklearn.preprocessing import PolynomialFeatures\n",
        "from sklearn.linear_model import LinearRegression\n",
        "from sklearn.impute import SimpleImputer\n",
        "\n",
        "# Load the dataset\n",
        "file_path = \"/content/Estimated_Discharge.xlsx\"\n",
        "df = pd.read_excel(file_path)\n",
        "\n",
        "# Impute missing values in relevant columns with the mean\n",
        "imputer = SimpleImputer(strategy='mean')\n",
        "df['Basin Rainfall'] = imputer.fit_transform(df[['Basin Rainfall']])\n",
        "df['Discharge (cumecs)'] = imputer.fit_transform(df[['Discharge (cumecs)']])\n",
        "\n",
        "# Extract relevant columns\n",
        "rainfall = df['Basin Rainfall'].values.reshape(-1, 1)  # Reshape to 2D array\n",
        "runoff = df['Discharge (cumecs)']\n",
        "\n",
        "# Fit linear regression\n",
        "linear_model = LinearRegression()\n",
        "linear_model.fit(rainfall, runoff)\n",
        "\n",
        "# Calculate R² score for linear regression\n",
        "linear_r_squared = linear_model.score(rainfall, runoff)\n",
        "print(f\"R² Score (Linear Regression): {linear_r_squared:.2f}\")\n",
        "\n",
        "# Polynomial features (degree 2, adjust the degree as needed)\n",
        "poly = PolynomialFeatures(degree=2)\n",
        "rainfall_poly = poly.fit_transform(rainfall)\n",
        "\n",
        "# Fit polynomial regression\n",
        "polynomial_model = LinearRegression()\n",
        "polynomial_model.fit(rainfall_poly, runoff)\n",
        "\n",
        "# Calculate R² score for polynomial regression\n",
        "polynomial_r_squared = polynomial_model.score(rainfall_poly, runoff)\n",
        "print(f\"R² Score (Polynomial Regression): {polynomial_r_squared:.2f}\")\n",
        "\n",
        "# Create a DataFrame to store the results\n",
        "results_df = pd.DataFrame({\n",
        "    \"Model\": [\"Linear Regression\", \"Polynomial Regression (Degree 2)\"],\n",
        "    \"R² Score\": [linear_r_squared, polynomial_r_squared]\n",
        "})\n",
        "\n",
        "# Define the output file path\n",
        "output_file = \"/content/Regression_R2_Score.xlsx\"\n",
        "\n",
        "# Save the results to an Excel file\n",
        "results_df.to_excel(output_file, index=False)\n",
        "print(f\"R² Scores saved to '{output_file}'.\")\n"
      ],
      "metadata": {
        "colab": {
          "base_uri": "https://localhost:8080/",
          "height": 0
        },
        "id": "L5P7-p3vxKWT",
        "outputId": "46cfe659-350e-46b5-9e60-868cedd6bd24"
      },
      "execution_count": 30,
      "outputs": [
        {
          "output_type": "stream",
          "name": "stdout",
          "text": [
            "R² Score (Linear Regression): 0.43\n",
            "R² Score (Polynomial Regression): 0.44\n",
            "R² Scores saved to '/content/Regression_R2_Score.xlsx'.\n"
          ]
        }
      ]
    },
    {
      "cell_type": "markdown",
      "source": [
        "Task 7: Perform flood frequency analysis based on the data provided. Assuming the current year reported a flow of magnitude equal to 5000 cumecs, report the likely return period of the given flood event from the analysis performed."
      ],
      "metadata": {
        "id": "tukgL0m6ZkQp"
      }
    },
    {
      "cell_type": "code",
      "source": [
        "import pandas as pd\n",
        "from scipy.stats import genextreme\n",
        "\n",
        "# Load the dataset\n",
        "file_path = \"/content/Estimated_Discharge.xlsx\"\n",
        "df = pd.read_excel(file_path)\n",
        "\n",
        "peak_flows = df['Discharge (cumecs)']\n",
        "\n",
        "# Fit the GEV distribution to your peak flows\n",
        "params = genextreme.fit(peak_flows)\n",
        "\n",
        "# Calculate the return period for 5000 cumecs\n",
        "return_period_gev = 1 / (1 - genextreme.cdf(5000, *params))\n",
        "print(f\"Return period for 5000 cumecs flood using GEV: {return_period_gev:.2f} years\")\n",
        "\n",
        "# Create a DataFrame to store the results\n",
        "results_df = pd.DataFrame({\n",
        "    \"Flood Magnitude (cumecs)\": [5000],\n",
        "    \"Return Period (years)\": [return_period_gev]\n",
        "})\n",
        "\n",
        "# Define the output file path\n",
        "output_file = \"/content/GEV_Flood_Return_Period.xlsx\"\n",
        "\n",
        "# Save the results to an Excel file\n",
        "results_df.to_excel(output_file, index=False)\n",
        "print(f\"Return period for 5000 cumecs flood using GEV saved to '{output_file}'.\")\n"
      ],
      "metadata": {
        "colab": {
          "base_uri": "https://localhost:8080/",
          "height": 0
        },
        "id": "tEEIdFppxNZ2",
        "outputId": "e0c8ea79-29dd-4e92-9f93-82edd72718ec"
      },
      "execution_count": 31,
      "outputs": [
        {
          "output_type": "stream",
          "name": "stdout",
          "text": [
            "Return period for 5000 cumecs flood using GEV: 420.41 years\n",
            "Return period for 5000 cumecs flood using GEV saved to '/content/GEV_Flood_Return_Period.xlsx'.\n"
          ]
        }
      ]
    },
    {
      "cell_type": "markdown",
      "source": [
        "Task 8: Calculate 25%, 50%, 75% Dependability Discharge from the stream flow time series provided."
      ],
      "metadata": {
        "id": "5ypOwP4dZsW-"
      }
    },
    {
      "cell_type": "code",
      "source": [
        "import pandas as pd\n",
        "import numpy as np\n",
        "\n",
        "# Load the dataset\n",
        "file_path = \"/content/Estimated_Discharge.xlsx\"\n",
        "df = pd.read_excel(file_path)\n",
        "\n",
        "# Calculate the dependability discharges at 25%, 50%, and 75%\n",
        "percentiles = [25, 50, 75]\n",
        "dependability = np.percentile(df['Discharge (cumecs)'], percentiles)\n",
        "\n",
        "# Print the results\n",
        "print(f\"Task 8: Dependability discharges at 25%, 50%, and 75%:\", dependability)\n",
        "\n",
        "# Create a DataFrame to store the results\n",
        "dependability_df = pd.DataFrame({\n",
        "    \"Percentile\": percentiles,\n",
        "    \"Dependability Discharge (cumecs)\": dependability\n",
        "})\n",
        "\n",
        "# Define the output file path\n",
        "output_file = \"/content/Dependability_Discharge_Results.xlsx\"\n",
        "\n",
        "# Save the results to an Excel file\n",
        "dependability_df.to_excel(output_file, index=False)\n",
        "print(f\"Dependability discharges saved to '{output_file}'.\")\n"
      ],
      "metadata": {
        "colab": {
          "base_uri": "https://localhost:8080/",
          "height": 0
        },
        "id": "W2eQOplMxQm0",
        "outputId": "faf43060-ed4c-4e8d-834f-30e41bb240da"
      },
      "execution_count": 32,
      "outputs": [
        {
          "output_type": "stream",
          "name": "stdout",
          "text": [
            "Task 8: Dependability discharges at 25%, 50%, and 75%: [ 50.  134.1 291.7]\n",
            "Dependability discharges saved to '/content/Dependability_Discharge_Results.xlsx'.\n"
          ]
        }
      ]
    },
    {
      "cell_type": "markdown",
      "source": [
        "Given Observed and Modelled data time series, find the performance metrics between them by coding."
      ],
      "metadata": {
        "id": "UkF7VmPHZ0Hu"
      }
    },
    {
      "cell_type": "code",
      "source": [
        "import pandas as pd\n",
        "from sklearn.metrics import mean_squared_error, mean_absolute_error, r2_score\n",
        "import numpy as np\n",
        "\n",
        "# Define file path for the dataset\n",
        "file_path = \"/content/Datasets/Performance_assessment.xlsx\"\n",
        "\n",
        "# Load the dataset\n",
        "df = pd.read_excel(file_path)\n",
        "\n",
        "# Map columns to observed and modeled variables\n",
        "observed = df['Obs']  # Observed discharge\n",
        "modeled = df['Simulated']  # Simulated discharge\n",
        "\n",
        "# Calculate performance metrics\n",
        "mse = mean_squared_error(observed, modeled)\n",
        "mae = mean_absolute_error(observed, modeled)\n",
        "rmse = np.sqrt(mse)\n",
        "r2 = r2_score(observed, modeled)\n",
        "\n",
        "# Print performance metrics\n",
        "print(f\"Performance Metrics:\")\n",
        "print(f\"MSE = {mse}\")\n",
        "print(f\"MAE = {mae}\")\n",
        "print(f\"RMSE = {rmse}\")\n",
        "print(f\"R² = {r2}\")\n",
        "\n",
        "# Create a DataFrame to store the results\n",
        "metrics_df = pd.DataFrame({\n",
        "    \"Metric\": [\"MSE\", \"MAE\", \"RMSE\", \"R²\"],\n",
        "    \"Value\": [mse, mae, rmse, r2]\n",
        "})\n",
        "\n",
        "# Define the output file path\n",
        "output_file = \"/content/Performance_Metrics_Results.xlsx\"\n",
        "\n",
        "# Save the performance metrics to an Excel file\n",
        "metrics_df.to_excel(output_file, index=False)\n",
        "print(f\"Performance metrics saved to '{output_file}'.\")\n"
      ],
      "metadata": {
        "colab": {
          "base_uri": "https://localhost:8080/",
          "height": 0
        },
        "id": "QF_7zTBUxTcQ",
        "outputId": "36a36cbd-bd00-4f38-8ac5-fae91d548a5b"
      },
      "execution_count": 33,
      "outputs": [
        {
          "output_type": "stream",
          "name": "stdout",
          "text": [
            "Performance Metrics:\n",
            "MSE = 126729.35804835924\n",
            "MAE = 200.1908462867012\n",
            "RMSE = 355.99067129400913\n",
            "R² = 0.6155601392849028\n",
            "Performance metrics saved to '/content/Performance_Metrics_Results.xlsx'.\n"
          ]
        }
      ]
    },
    {
      "cell_type": "markdown",
      "source": [
        "Perform mass balance, given timeseries data of inflows, outflows, and storage details of a reservoir. The output is saved in xlsx format named as Mass_Balance_Results."
      ],
      "metadata": {
        "id": "WjL1vPgAaEFm"
      }
    },
    {
      "cell_type": "code",
      "source": [
        "import pandas as pd\n",
        "\n",
        "# Load the dataset and skip metadata rows\n",
        "file_path = \"/content/Datasets/Dataset for Mass balance case study.xlsx\"\n",
        "reservoir_data = pd.read_excel(file_path, skiprows=4)\n",
        "\n",
        "# Rename columns for clarity\n",
        "reservoir_data.columns = [\n",
        "    'Date', 'Level (m)', 'Storage (TMC)', 'Tributary 1 (cusecs)', 'Tributary 2 (cusecs)', 'Inflow (cusecs)', 'Outflow (cusecs)',\n",
        "    'Spillway (cusecs)', 'Canal 1 (cusecs)', 'Canal 2 (cusecs)',\n",
        "    'Canal 3 (cusecs)', 'Canal 4 (cusecs)', 'Canal 5 (cusecs)', 'Losses (cusecs)'\n",
        "]\n",
        "\n",
        "# Extract relevant columns for mass balance calculation\n",
        "reservoir_data = reservoir_data[['Date', 'Inflow (cusecs)', 'Outflow (cusecs)', 'Storage (TMC)']]\n",
        "\n",
        "# Convert storage from TMC to cusecs (1 TMC = 1e9 cubic feet)\n",
        "# For daily conversion: 1 TMC/day = 1e9 cubic feet / 86400 seconds\n",
        "reservoir_data['Storage (cusecs)'] = (reservoir_data['Storage (TMC)'] * 1e9) / 86400\n",
        "\n",
        "# Calculate change in storage (∆Storage) in cusecs\n",
        "reservoir_data['Change in Storage (cusecs)'] = reservoir_data['Storage (cusecs)'].diff().fillna(0)\n",
        "\n",
        "# Perform mass balance calculation in cusecs\n",
        "reservoir_data['Mass Balance (cusecs)'] = (\n",
        "    reservoir_data['Inflow (cusecs)']\n",
        "    - reservoir_data['Outflow (cusecs)']\n",
        "    - reservoir_data['Change in Storage (cusecs)']\n",
        ")\n",
        "\n",
        "# Save the results to a new Excel file\n",
        "output_file = \"Mass_Balance_Results.xlsx\"\n",
        "reservoir_data.to_excel(output_file, index=False)\n",
        "\n",
        "print(f\"Mass balance calculations saved to '{output_file}'.\")\n"
      ],
      "metadata": {
        "colab": {
          "base_uri": "https://localhost:8080/",
          "height": 0
        },
        "id": "K2wlcR9BxWpH",
        "outputId": "4769ef23-ed81-44d0-83dc-a2dc3368f5ab"
      },
      "execution_count": 34,
      "outputs": [
        {
          "output_type": "stream",
          "name": "stdout",
          "text": [
            "Mass balance calculations saved to 'Mass_Balance_Results.xlsx'.\n"
          ]
        },
        {
          "output_type": "stream",
          "name": "stderr",
          "text": [
            "<ipython-input-34-9545d6a7eb09>:19: SettingWithCopyWarning: \n",
            "A value is trying to be set on a copy of a slice from a DataFrame.\n",
            "Try using .loc[row_indexer,col_indexer] = value instead\n",
            "\n",
            "See the caveats in the documentation: https://pandas.pydata.org/pandas-docs/stable/user_guide/indexing.html#returning-a-view-versus-a-copy\n",
            "  reservoir_data['Storage (cusecs)'] = (reservoir_data['Storage (TMC)'] * 1e9) / 86400\n"
          ]
        }
      ]
    },
    {
      "cell_type": "markdown",
      "source": [
        "Calculated Design storms of 24 hour duration with the Rainfall data provided.The outputs are saved in xlsx format for all the 9 stations."
      ],
      "metadata": {
        "id": "hWc0lFltUAkp"
      }
    },
    {
      "cell_type": "code",
      "source": [
        "import os\n",
        "import pandas as pd\n",
        "\n",
        "# Path to the directory containing the Design Storm data\n",
        "design_storm_path = \"/content/Datasets/Design Storm_Case Study\"\n",
        "design_storm_data = {}\n",
        "\n",
        "# Loop through each file in the directory\n",
        "for file in os.listdir(design_storm_path):\n",
        "    if file.endswith(\".txt\"):\n",
        "        # Extract station name from file name\n",
        "        station_name = file.replace(\".txt\", \"\")\n",
        "\n",
        "        # Open and read the file\n",
        "        with open(os.path.join(design_storm_path, file), 'r') as f:\n",
        "            lines = f.readlines()\n",
        "\n",
        "        # Extract the tabular data starting from the appropriate line\n",
        "        start_index = 7  # Tabular data starts at line 7\n",
        "        tabular_data = lines[start_index:]\n",
        "\n",
        "        # Parse the data into a DataFrame\n",
        "        data = []\n",
        "        for line in tabular_data:\n",
        "            parts = line.strip().split('/')\n",
        "            if len(parts) == 2:\n",
        "                time_part = parts[0].strip()\n",
        "                rainfall_part = parts[1].split(':')[-1].strip()\n",
        "                try:\n",
        "                    rainfall_value = float(rainfall_part)\n",
        "                    data.append([time_part, rainfall_value])\n",
        "                except ValueError:\n",
        "                    print(f\"Error parsing rainfall value in file {file}: {rainfall_part}\")\n",
        "\n",
        "        # Convert to a DataFrame\n",
        "        df = pd.DataFrame(data, columns=[\"Time (hours)\", \"Rainfall (mm)\"])\n",
        "\n",
        "        # Store the DataFrame in the dictionary\n",
        "        design_storm_data[station_name] = df\n",
        "\n",
        "# Process and save the data\n",
        "for station, data in design_storm_data.items():\n",
        "    # Ensure there is enough data (at least 24 hours)\n",
        "    if len(data) >= 24:\n",
        "        total_storms = len(data) - 23  # Number of 24-hour storms (each starting from hour 1 to hour 24)\n",
        "        storm_totals = []\n",
        "        storm_intensities = []\n",
        "\n",
        "        # Calculate total rainfall for each 24-hour period\n",
        "        for i in range(total_storms):\n",
        "            # Select the 24-hour block\n",
        "            storm_data = data.iloc[i:i+24]\n",
        "\n",
        "            # Calculate total rainfall for this 24-hour period\n",
        "            total_rainfall = storm_data['Rainfall (mm)'].sum()\n",
        "            storm_totals.append(total_rainfall)\n",
        "\n",
        "            # Calculate the average intensity (total rainfall / 24)\n",
        "            average_intensity = total_rainfall / 24\n",
        "            storm_intensities.append(average_intensity)\n",
        "\n",
        "        # Output the total rainfall and average intensity for each 24-hour period\n",
        "        for i in range(len(storm_totals)):\n",
        "            print(f\"Design Storm {i+1} for {station}: Total Rainfall = {storm_totals[i]:.2f} mm, Average Intensity = {storm_intensities[i]:.2f} mm/hour\")\n",
        "\n",
        "        # Save the storm totals and intensities to an Excel file\n",
        "        result_df = pd.DataFrame({\n",
        "            \"Storm Period\": [f\"Design Storm {i+1}\" for i in range(len(storm_totals))],\n",
        "            \"Total Rainfall (mm)\": storm_totals,\n",
        "            \"Average Intensity (mm/hour)\": storm_intensities\n",
        "        })\n",
        "\n",
        "        result_df.to_excel(f\"Design_Storm_{station}_24hr_Design_Storms.xlsx\", index=False, float_format=\"%.2f\")\n",
        "    else:\n",
        "        print(f\"Warning: Data for station {station} is incomplete (less than 24 hours).\")\n"
      ],
      "metadata": {
        "colab": {
          "base_uri": "https://localhost:8080/",
          "height": 460
        },
        "id": "QiWf2lwrxZPu",
        "outputId": "f911c0aa-bcad-49c2-fd24-ea8cb45fba03"
      },
      "execution_count": 35,
      "outputs": [
        {
          "output_type": "error",
          "ename": "KeyboardInterrupt",
          "evalue": "",
          "traceback": [
            "\u001b[0;31m---------------------------------------------------------------------------\u001b[0m",
            "\u001b[0;31mKeyboardInterrupt\u001b[0m                         Traceback (most recent call last)",
            "\u001b[0;32m<ipython-input-35-b402e6dd5e88>\u001b[0m in \u001b[0;36m<cell line: 42>\u001b[0;34m()\u001b[0m\n\u001b[1;32m     50\u001b[0m         \u001b[0;32mfor\u001b[0m \u001b[0mi\u001b[0m \u001b[0;32min\u001b[0m \u001b[0mrange\u001b[0m\u001b[0;34m(\u001b[0m\u001b[0mtotal_storms\u001b[0m\u001b[0;34m)\u001b[0m\u001b[0;34m:\u001b[0m\u001b[0;34m\u001b[0m\u001b[0;34m\u001b[0m\u001b[0m\n\u001b[1;32m     51\u001b[0m             \u001b[0;31m# Select the 24-hour block\u001b[0m\u001b[0;34m\u001b[0m\u001b[0;34m\u001b[0m\u001b[0m\n\u001b[0;32m---> 52\u001b[0;31m             \u001b[0mstorm_data\u001b[0m \u001b[0;34m=\u001b[0m \u001b[0mdata\u001b[0m\u001b[0;34m.\u001b[0m\u001b[0miloc\u001b[0m\u001b[0;34m[\u001b[0m\u001b[0mi\u001b[0m\u001b[0;34m:\u001b[0m\u001b[0mi\u001b[0m\u001b[0;34m+\u001b[0m\u001b[0;36m24\u001b[0m\u001b[0;34m]\u001b[0m\u001b[0;34m\u001b[0m\u001b[0;34m\u001b[0m\u001b[0m\n\u001b[0m\u001b[1;32m     53\u001b[0m \u001b[0;34m\u001b[0m\u001b[0m\n\u001b[1;32m     54\u001b[0m             \u001b[0;31m# Calculate total rainfall for this 24-hour period\u001b[0m\u001b[0;34m\u001b[0m\u001b[0;34m\u001b[0m\u001b[0m\n",
            "\u001b[0;32m/usr/local/lib/python3.10/dist-packages/pandas/core/indexing.py\u001b[0m in \u001b[0;36m__getitem__\u001b[0;34m(self, key)\u001b[0m\n\u001b[1;32m   1189\u001b[0m             \u001b[0mmaybe_callable\u001b[0m \u001b[0;34m=\u001b[0m \u001b[0mcom\u001b[0m\u001b[0;34m.\u001b[0m\u001b[0mapply_if_callable\u001b[0m\u001b[0;34m(\u001b[0m\u001b[0mkey\u001b[0m\u001b[0;34m,\u001b[0m \u001b[0mself\u001b[0m\u001b[0;34m.\u001b[0m\u001b[0mobj\u001b[0m\u001b[0;34m)\u001b[0m\u001b[0;34m\u001b[0m\u001b[0;34m\u001b[0m\u001b[0m\n\u001b[1;32m   1190\u001b[0m             \u001b[0mmaybe_callable\u001b[0m \u001b[0;34m=\u001b[0m \u001b[0mself\u001b[0m\u001b[0;34m.\u001b[0m\u001b[0m_check_deprecated_callable_usage\u001b[0m\u001b[0;34m(\u001b[0m\u001b[0mkey\u001b[0m\u001b[0;34m,\u001b[0m \u001b[0mmaybe_callable\u001b[0m\u001b[0;34m)\u001b[0m\u001b[0;34m\u001b[0m\u001b[0;34m\u001b[0m\u001b[0m\n\u001b[0;32m-> 1191\u001b[0;31m             \u001b[0;32mreturn\u001b[0m \u001b[0mself\u001b[0m\u001b[0;34m.\u001b[0m\u001b[0m_getitem_axis\u001b[0m\u001b[0;34m(\u001b[0m\u001b[0mmaybe_callable\u001b[0m\u001b[0;34m,\u001b[0m \u001b[0maxis\u001b[0m\u001b[0;34m=\u001b[0m\u001b[0maxis\u001b[0m\u001b[0;34m)\u001b[0m\u001b[0;34m\u001b[0m\u001b[0;34m\u001b[0m\u001b[0m\n\u001b[0m\u001b[1;32m   1192\u001b[0m \u001b[0;34m\u001b[0m\u001b[0m\n\u001b[1;32m   1193\u001b[0m     \u001b[0;32mdef\u001b[0m \u001b[0m_is_scalar_access\u001b[0m\u001b[0;34m(\u001b[0m\u001b[0mself\u001b[0m\u001b[0;34m,\u001b[0m \u001b[0mkey\u001b[0m\u001b[0;34m:\u001b[0m \u001b[0mtuple\u001b[0m\u001b[0;34m)\u001b[0m\u001b[0;34m:\u001b[0m\u001b[0;34m\u001b[0m\u001b[0;34m\u001b[0m\u001b[0m\n",
            "\u001b[0;32m/usr/local/lib/python3.10/dist-packages/pandas/core/indexing.py\u001b[0m in \u001b[0;36m_getitem_axis\u001b[0;34m(self, key, axis)\u001b[0m\n\u001b[1;32m   1727\u001b[0m \u001b[0;34m\u001b[0m\u001b[0m\n\u001b[1;32m   1728\u001b[0m         \u001b[0;32mif\u001b[0m \u001b[0misinstance\u001b[0m\u001b[0;34m(\u001b[0m\u001b[0mkey\u001b[0m\u001b[0;34m,\u001b[0m \u001b[0mslice\u001b[0m\u001b[0;34m)\u001b[0m\u001b[0;34m:\u001b[0m\u001b[0;34m\u001b[0m\u001b[0;34m\u001b[0m\u001b[0m\n\u001b[0;32m-> 1729\u001b[0;31m             \u001b[0;32mreturn\u001b[0m \u001b[0mself\u001b[0m\u001b[0;34m.\u001b[0m\u001b[0m_get_slice_axis\u001b[0m\u001b[0;34m(\u001b[0m\u001b[0mkey\u001b[0m\u001b[0;34m,\u001b[0m \u001b[0maxis\u001b[0m\u001b[0;34m=\u001b[0m\u001b[0maxis\u001b[0m\u001b[0;34m)\u001b[0m\u001b[0;34m\u001b[0m\u001b[0;34m\u001b[0m\u001b[0m\n\u001b[0m\u001b[1;32m   1730\u001b[0m \u001b[0;34m\u001b[0m\u001b[0m\n\u001b[1;32m   1731\u001b[0m         \u001b[0;32mif\u001b[0m \u001b[0mis_iterator\u001b[0m\u001b[0;34m(\u001b[0m\u001b[0mkey\u001b[0m\u001b[0;34m)\u001b[0m\u001b[0;34m:\u001b[0m\u001b[0;34m\u001b[0m\u001b[0;34m\u001b[0m\u001b[0m\n",
            "\u001b[0;32m/usr/local/lib/python3.10/dist-packages/pandas/core/indexing.py\u001b[0m in \u001b[0;36m_get_slice_axis\u001b[0;34m(self, slice_obj, axis)\u001b[0m\n\u001b[1;32m   1763\u001b[0m         \u001b[0mlabels\u001b[0m \u001b[0;34m=\u001b[0m \u001b[0mobj\u001b[0m\u001b[0;34m.\u001b[0m\u001b[0m_get_axis\u001b[0m\u001b[0;34m(\u001b[0m\u001b[0maxis\u001b[0m\u001b[0;34m)\u001b[0m\u001b[0;34m\u001b[0m\u001b[0;34m\u001b[0m\u001b[0m\n\u001b[1;32m   1764\u001b[0m         \u001b[0mlabels\u001b[0m\u001b[0;34m.\u001b[0m\u001b[0m_validate_positional_slice\u001b[0m\u001b[0;34m(\u001b[0m\u001b[0mslice_obj\u001b[0m\u001b[0;34m)\u001b[0m\u001b[0;34m\u001b[0m\u001b[0;34m\u001b[0m\u001b[0m\n\u001b[0;32m-> 1765\u001b[0;31m         \u001b[0;32mreturn\u001b[0m \u001b[0mself\u001b[0m\u001b[0;34m.\u001b[0m\u001b[0mobj\u001b[0m\u001b[0;34m.\u001b[0m\u001b[0m_slice\u001b[0m\u001b[0;34m(\u001b[0m\u001b[0mslice_obj\u001b[0m\u001b[0;34m,\u001b[0m \u001b[0maxis\u001b[0m\u001b[0;34m=\u001b[0m\u001b[0maxis\u001b[0m\u001b[0;34m)\u001b[0m\u001b[0;34m\u001b[0m\u001b[0;34m\u001b[0m\u001b[0m\n\u001b[0m\u001b[1;32m   1766\u001b[0m \u001b[0;34m\u001b[0m\u001b[0m\n\u001b[1;32m   1767\u001b[0m     \u001b[0;32mdef\u001b[0m \u001b[0m_convert_to_indexer\u001b[0m\u001b[0;34m(\u001b[0m\u001b[0mself\u001b[0m\u001b[0;34m,\u001b[0m \u001b[0mkey\u001b[0m\u001b[0;34m,\u001b[0m \u001b[0maxis\u001b[0m\u001b[0;34m:\u001b[0m \u001b[0mAxisInt\u001b[0m\u001b[0;34m)\u001b[0m\u001b[0;34m:\u001b[0m\u001b[0;34m\u001b[0m\u001b[0;34m\u001b[0m\u001b[0m\n",
            "\u001b[0;32m/usr/local/lib/python3.10/dist-packages/pandas/core/generic.py\u001b[0m in \u001b[0;36m_slice\u001b[0;34m(self, slobj, axis)\u001b[0m\n\u001b[1;32m   4367\u001b[0m         \u001b[0;32massert\u001b[0m \u001b[0misinstance\u001b[0m\u001b[0;34m(\u001b[0m\u001b[0mslobj\u001b[0m\u001b[0;34m,\u001b[0m \u001b[0mslice\u001b[0m\u001b[0;34m)\u001b[0m\u001b[0;34m,\u001b[0m \u001b[0mtype\u001b[0m\u001b[0;34m(\u001b[0m\u001b[0mslobj\u001b[0m\u001b[0;34m)\u001b[0m\u001b[0;34m\u001b[0m\u001b[0;34m\u001b[0m\u001b[0m\n\u001b[1;32m   4368\u001b[0m         \u001b[0maxis\u001b[0m \u001b[0;34m=\u001b[0m \u001b[0mself\u001b[0m\u001b[0;34m.\u001b[0m\u001b[0m_get_block_manager_axis\u001b[0m\u001b[0;34m(\u001b[0m\u001b[0maxis\u001b[0m\u001b[0;34m)\u001b[0m\u001b[0;34m\u001b[0m\u001b[0;34m\u001b[0m\u001b[0m\n\u001b[0;32m-> 4369\u001b[0;31m         \u001b[0mnew_mgr\u001b[0m \u001b[0;34m=\u001b[0m \u001b[0mself\u001b[0m\u001b[0;34m.\u001b[0m\u001b[0m_mgr\u001b[0m\u001b[0;34m.\u001b[0m\u001b[0mget_slice\u001b[0m\u001b[0;34m(\u001b[0m\u001b[0mslobj\u001b[0m\u001b[0;34m,\u001b[0m \u001b[0maxis\u001b[0m\u001b[0;34m=\u001b[0m\u001b[0maxis\u001b[0m\u001b[0;34m)\u001b[0m\u001b[0;34m\u001b[0m\u001b[0;34m\u001b[0m\u001b[0m\n\u001b[0m\u001b[1;32m   4370\u001b[0m         \u001b[0mresult\u001b[0m \u001b[0;34m=\u001b[0m \u001b[0mself\u001b[0m\u001b[0;34m.\u001b[0m\u001b[0m_constructor_from_mgr\u001b[0m\u001b[0;34m(\u001b[0m\u001b[0mnew_mgr\u001b[0m\u001b[0;34m,\u001b[0m \u001b[0maxes\u001b[0m\u001b[0;34m=\u001b[0m\u001b[0mnew_mgr\u001b[0m\u001b[0;34m.\u001b[0m\u001b[0maxes\u001b[0m\u001b[0;34m)\u001b[0m\u001b[0;34m\u001b[0m\u001b[0;34m\u001b[0m\u001b[0m\n\u001b[1;32m   4371\u001b[0m         \u001b[0mresult\u001b[0m \u001b[0;34m=\u001b[0m \u001b[0mresult\u001b[0m\u001b[0;34m.\u001b[0m\u001b[0m__finalize__\u001b[0m\u001b[0;34m(\u001b[0m\u001b[0mself\u001b[0m\u001b[0;34m)\u001b[0m\u001b[0;34m\u001b[0m\u001b[0;34m\u001b[0m\u001b[0m\n",
            "\u001b[0;32minternals.pyx\u001b[0m in \u001b[0;36mpandas._libs.internals.BlockManager.get_slice\u001b[0;34m()\u001b[0m\n",
            "\u001b[0;32minternals.pyx\u001b[0m in \u001b[0;36mpandas._libs.internals.BlockManager._slice_mgr_rows\u001b[0;34m()\u001b[0m\n",
            "\u001b[0;32m/usr/local/lib/python3.10/dist-packages/pandas/core/indexes/range.py\u001b[0m in \u001b[0;36m_getitem_slice\u001b[0;34m(self, slobj)\u001b[0m\n\u001b[1;32m   1030\u001b[0m         \u001b[0;32mreturn\u001b[0m \u001b[0msuper\u001b[0m\u001b[0;34m(\u001b[0m\u001b[0;34m)\u001b[0m\u001b[0;34m.\u001b[0m\u001b[0m__getitem__\u001b[0m\u001b[0;34m(\u001b[0m\u001b[0mkey\u001b[0m\u001b[0;34m)\u001b[0m\u001b[0;34m\u001b[0m\u001b[0;34m\u001b[0m\u001b[0m\n\u001b[1;32m   1031\u001b[0m \u001b[0;34m\u001b[0m\u001b[0m\n\u001b[0;32m-> 1032\u001b[0;31m     \u001b[0;32mdef\u001b[0m \u001b[0m_getitem_slice\u001b[0m\u001b[0;34m(\u001b[0m\u001b[0mself\u001b[0m\u001b[0;34m,\u001b[0m \u001b[0mslobj\u001b[0m\u001b[0;34m:\u001b[0m \u001b[0mslice\u001b[0m\u001b[0;34m)\u001b[0m \u001b[0;34m->\u001b[0m \u001b[0mSelf\u001b[0m\u001b[0;34m:\u001b[0m\u001b[0;34m\u001b[0m\u001b[0;34m\u001b[0m\u001b[0m\n\u001b[0m\u001b[1;32m   1033\u001b[0m         \"\"\"\n\u001b[1;32m   1034\u001b[0m         \u001b[0mFastpath\u001b[0m \u001b[0;32mfor\u001b[0m \u001b[0m__getitem__\u001b[0m \u001b[0mwhen\u001b[0m \u001b[0mwe\u001b[0m \u001b[0mknow\u001b[0m \u001b[0mwe\u001b[0m \u001b[0mhave\u001b[0m \u001b[0ma\u001b[0m \u001b[0mslice\u001b[0m\u001b[0;34m.\u001b[0m\u001b[0;34m\u001b[0m\u001b[0;34m\u001b[0m\u001b[0m\n",
            "\u001b[0;31mKeyboardInterrupt\u001b[0m: "
          ]
        }
      ]
    },
    {
      "cell_type": "code",
      "source": [],
      "metadata": {
        "id": "tI439qnB3JYW"
      },
      "execution_count": null,
      "outputs": []
    }
  ]
}